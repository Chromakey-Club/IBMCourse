{
 "cells": [
  {
   "cell_type": "markdown",
   "id": "263f5134-97f1-456f-89fa-74b9d823754f",
   "metadata": {},
   "source": [
    "<h1>Data Science Tools and Ecosystem<h1>"
   ]
  },
  {
   "cell_type": "markdown",
   "id": "2e7ce157-5041-4b92-8caf-66bfeaa7d5e9",
   "metadata": {},
   "source": [
    "In this notebook, Data Science Tools and Ecosystem are summarized."
   ]
  },
  {
   "cell_type": "markdown",
   "id": "c39426c8-725f-455a-9125-2dca6a9869ee",
   "metadata": {},
   "source": [
    "Some of the popular languages that Data Scientists use are:\n",
    "1.  Python\n",
    "2.  R\n",
    "3.  SQL"
   ]
  },
  {
   "cell_type": "markdown",
   "id": "72a74920-53ed-4c26-b53d-3589493d94bd",
   "metadata": {},
   "source": [
    "Some of the commonly used libraries used by Data Scientists include:\n",
    "1.  NumPy\n",
    "2.  Pandas\n",
    "3.  MatPlotLib"
   ]
  },
  {
   "cell_type": "markdown",
   "id": "a80e53e4-aecd-473a-b6a5-2dab7fdbb13f",
   "metadata": {},
   "source": [
    "| Data Science Tools |\n",
    "|:--------:|\n",
    "|  RStudio   |\n",
    "|  Jupyter Notebook   |\n",
    "|  Apache Spark   |"
   ]
  },
  {
   "cell_type": "markdown",
   "id": "a9df52de-0b7b-4b81-8420-66a6d9b07fa6",
   "metadata": {},
   "source": [
    "<h3>Below are a few examples of evaluating arithmetic expressions in Python<h3>"
   ]
  },
  {
   "cell_type": "code",
   "execution_count": 9,
   "id": "4a6a4a55-767d-4218-ba60-1fd19539f695",
   "metadata": {},
   "outputs": [
    {
     "data": {
      "text/plain": [
       "17"
      ]
     },
     "execution_count": 9,
     "metadata": {},
     "output_type": "execute_result"
    }
   ],
   "source": [
    "### This a simple arithmetic expression to mutiply then add integers\n",
    "(3*4)+5"
   ]
  },
  {
   "cell_type": "code",
   "execution_count": 10,
   "id": "55c00e9f-aa98-404b-8993-4224986b4246",
   "metadata": {},
   "outputs": [
    {
     "name": "stdout",
     "output_type": "stream",
     "text": [
      "200 minutes is 3.3333333333333335 hours.\n"
     ]
    }
   ],
   "source": [
    "### This will convert 200 minutes to hours by diving by 60\n",
    "print(\"200 minutes is\", 200/60, \"hours.\")"
   ]
  },
  {
   "cell_type": "markdown",
   "id": "737c3fd7-0067-4da1-b328-0d03b0d9a5ad",
   "metadata": {},
   "source": [
    "Objectives:\n",
    "- Popular Languages that Data Scientists Use\n",
    "- Common Libraries Used in Data Science\n",
    "- Data Science Tools"
   ]
  },
  {
   "cell_type": "markdown",
   "id": "f1268330-6a2f-4a79-8434-359f71f6bf7c",
   "metadata": {},
   "source": [
    "<h2>Author<h2>\n",
    "<h4>Trace Osborne<h4>"
   ]
  },
  {
   "cell_type": "code",
   "execution_count": null,
   "id": "74948134-9c37-4775-a666-02f68956f667",
   "metadata": {},
   "outputs": [],
   "source": []
  }
 ],
 "metadata": {
  "kernelspec": {
   "display_name": "Python 3 (ipykernel)",
   "language": "python",
   "name": "python3"
  },
  "language_info": {
   "codemirror_mode": {
    "name": "ipython",
    "version": 3
   },
   "file_extension": ".py",
   "mimetype": "text/x-python",
   "name": "python",
   "nbconvert_exporter": "python",
   "pygments_lexer": "ipython3",
   "version": "3.12.9"
  }
 },
 "nbformat": 4,
 "nbformat_minor": 5
}
